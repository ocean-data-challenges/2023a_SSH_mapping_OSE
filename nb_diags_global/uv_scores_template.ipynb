{
 "cells": [
  {
   "cell_type": "markdown",
   "id": "62d2ab9d",
   "metadata": {},
   "source": [
    "![header](../figures/logos_partenaires._cmems_se.jpg)"
   ]
  },
  {
   "cell_type": "markdown",
   "id": "e263adb4",
   "metadata": {},
   "source": [
    "# Benchmark your method geostrophic currents maps\n",
    "\n",
    "<div style=\"text-align: right\"><i> 2023-04-27 MIOST_UV_BENCHMARK_DEMO </i></div>\n",
    "\n",
    "***\n",
    "**Authors:**  CLS & Datlas <br>\n",
    "**Copyright:** 2023 CLS & Datlas <br>\n",
    "**License:** MIT\n",
    "\n",
    "<div class=\"alert alert-block alert-success\">\n",
    "<h1><center>Benchmark of your method geostrophic currents maps</center></h1>\n",
    " <h5> The notebook aims to evaluate the surface current maps produced by the your system.</h5>\n",
    "    <h5> These maps are equivalent to the SEALEVEL_GLO_PHY_L4_MY_008_047 product distributed by the Copernicus Marine Service, except that a nadir altimeter (SARAL/Altika, SEALEVEL_GLO_PHY_L3_MY_008_062 product) has been excluded from the mapping. </h5>\n",
    "        <h5> We provide below a demonstration of the validation of these maps against the current data from the drifters database distributed by CMEMS (INSITU_GLO_PHY_UV_DISCRETE_MY_013_044 product) </h5>\n",
    "</div>"
   ]
  },
  {
   "cell_type": "markdown",
   "id": "931bb4aa",
   "metadata": {},
   "source": [
    "***\n",
    "**General Note 1**: Execute each cell through the <button class=\"btn btn-default btn-xs\"><i class=\"icon-play fa fa-play\"></i></button> button from the top MENU (or keyboard shortcut `Shift` + `Enter`).<br>\n",
    "<br>\n",
    "**General Note 2**: If, for any reason, the kernel is not working anymore, in the top MENU, click on the <button class=\"btn btn-default btn-xs\"><i class=\"fa fa-repeat icon-repeat\"></i></button> button. Then, in the top MENU, click on \"Cell\" and select \"Run All Above Selected Cell\".<br>\n",
    "***\n",
    "\n",
    "\n",
    "<div class=\"alert alert-danger\" role=\"alert\">\n",
    "\n",
    "<h3>Learning outcomes</h3>\n",
    "\n",
    "At the end of this notebook you will know:\n",
    "<ul>\n",
    "  <li>How you can evaluated Sea surface currents maps with drifters database: statistical and spectral analysis</li>\n",
    "</ul>\n",
    "    \n",
    "</div>"
   ]
  },
  {
   "cell_type": "code",
   "execution_count": null,
   "id": "86ccd402",
   "metadata": {},
   "outputs": [],
   "source": [
    "from glob import glob\n",
    "import numpy as np\n",
    "import os\n",
    "import warnings\n",
    "warnings.filterwarnings(\"ignore\")"
   ]
  },
  {
   "cell_type": "code",
   "execution_count": null,
   "id": "ff08648f",
   "metadata": {},
   "outputs": [],
   "source": [
    "import sys\n",
    "sys.path.append('..')\n",
    "from src.mod_plot import *\n",
    "from src.mod_stat import *\n",
    "from src.mod_spectral import *\n",
    "from src.mod_interp import *"
   ]
  },
  {
   "cell_type": "code",
   "execution_count": null,
   "id": "b6b0e1aa",
   "metadata": {},
   "outputs": [],
   "source": [
    "import logging\n",
    "logger = logging.getLogger()\n",
    "logger.setLevel(logging.INFO)"
   ]
  },
  {
   "cell_type": "markdown",
   "id": "8e982782",
   "metadata": {},
   "source": [
    "<div class=\"alert alert-info\" role=\"alert\">\n",
    "\n",
    "<h2>0. Parameters</h2>\n",
    "\n",
    "</div>"
   ]
  },
  {
   "cell_type": "code",
   "execution_count": null,
   "id": "a7cc3aed",
   "metadata": {
    "tags": [
     "parameters"
    ]
   },
   "outputs": [],
   "source": [
    "method_name = 'method'\n",
    "method_path = '../data/maps/method/*.nc'"
   ]
  },
  {
   "cell_type": "code",
   "execution_count": null,
   "id": "f213f4e0",
   "metadata": {},
   "outputs": [],
   "source": [
    "time_min = '2019-01-01'                                        # time min for analysis\n",
    "time_max = '2019-12-31'                                        # time max for analysis\n",
    "output_dir = '../results'                                      # output directory path\n",
    "os.system(f'mkdir -p {output_dir}')\n",
    "\n",
    "stat_output_filename = f'{output_dir}/stat_uv_'+method_name+'.nc'   # output statistical analysis filename\n",
    "psd_output_filename = f'{output_dir}/psd_uv_'+method_name+'.nc'     # output spectral analysis filename\n",
    "segment_lenght = np.timedelta64(40, 'D')                      # spectral parameter: drifters segment lenght in days to consider in the spectral analysis"
   ]
  },
  {
   "cell_type": "markdown",
   "id": "c3d2ec9f",
   "metadata": {},
   "source": [
    "<div class=\"alert alert-info\" role=\"alert\">\n",
    "\n",
    "<h2>1. Input files</h2>\n",
    "\n",
    "</div>"
   ]
  },
  {
   "cell_type": "markdown",
   "id": "11531132",
   "metadata": {},
   "source": [
    "## [Sea Surface currents from Drifters database](https://doi.org/10.17882/86236)"
   ]
  },
  {
   "cell_type": "code",
   "execution_count": null,
   "id": "ce276ed2",
   "metadata": {},
   "outputs": [],
   "source": [
    "filenames_drifters = sorted(glob('../data/independent_drifters/uv_drifters_*.nc'))"
   ]
  },
  {
   "cell_type": "code",
   "execution_count": null,
   "id": "8b8592b3",
   "metadata": {},
   "outputs": [],
   "source": [
    "ds_drifter = xr.open_mfdataset(filenames_drifters, combine='nested', concat_dim='time')\n",
    "ds_drifter = ds_drifter.where((ds_drifter.time >= np.datetime64(time_min)) & (ds_drifter.time <=  np.datetime64(time_max)), drop=True)\n",
    "ds_drifter"
   ]
  },
  {
   "cell_type": "markdown",
   "id": "724d349f",
   "metadata": {},
   "source": [
    "## Sea Surface current maps to evaluate"
   ]
  },
  {
   "cell_type": "code",
   "execution_count": null,
   "id": "0c0551c4",
   "metadata": {},
   "outputs": [],
   "source": [
    "list_of_maps = sorted(glob(method_path))\n",
    "ds_maps = xr.open_mfdataset(list_of_maps, combine='nested', concat_dim='time')\n",
    "ds_maps = ds_maps.sel(time=slice(time_min, time_max))\n",
    "ds_maps"
   ]
  },
  {
   "cell_type": "markdown",
   "id": "452ce9ff",
   "metadata": {},
   "source": [
    "<div class=\"alert alert-info\" role=\"alert\">\n",
    "\n",
    "<h2>2. Statistical & Spectral Analysis </h2>\n",
    "\n",
    "</div>"
   ]
  },
  {
   "cell_type": "markdown",
   "id": "2987e367",
   "metadata": {},
   "source": [
    "## 2.1 Interpolate sea surface currents maps onto drifters positions"
   ]
  },
  {
   "cell_type": "code",
   "execution_count": null,
   "id": "e5806488",
   "metadata": {},
   "outputs": [],
   "source": [
    "ds_interp = run_interpolation_drifters(ds_maps, ds_drifter, time_min, time_max)\n",
    "ds_interp = ds_interp.dropna('time')\n",
    "ds_interp = ds_interp.sortby('time')\n",
    "ds_interp"
   ]
  },
  {
   "cell_type": "markdown",
   "id": "da1a3cdf",
   "metadata": {},
   "source": [
    "## 2.2 Compute grid boxes statistics & statistics by regime (coastal, offshore low variability, offshore high variability)"
   ]
  },
  {
   "cell_type": "markdown",
   "id": "dc2c4af8",
   "metadata": {},
   "source": [
    "Once the surface currents maps have been interpolated to the position of the drifters, it is possible to calculate different statistics on the time series of zonal and meridional velocities. \n",
    "\n",
    "We propose below the following statistics: error variance maps (static by 1°x1° box), explained variance maps. "
   ]
  },
  {
   "cell_type": "code",
   "execution_count": null,
   "id": "ea0a8a1b",
   "metadata": {},
   "outputs": [],
   "source": [
    "# Compute gridded stats\n",
    "compute_stat_scores_uv(ds_interp, stat_output_filename,method_name=method_name)"
   ]
  },
  {
   "cell_type": "code",
   "execution_count": null,
   "id": "f333c928",
   "metadata": {},
   "outputs": [],
   "source": []
  },
  {
   "cell_type": "code",
   "execution_count": null,
   "id": "45684743",
   "metadata": {},
   "outputs": [],
   "source": [
    "# Plot gridded stats\n",
    "# Hvplot\n",
    "# plot_stat_score_map_uv(stat_output_filename)\n",
    "# Matplotlib\n",
    "plot_stat_score_map_uv_png(stat_output_filename)"
   ]
  },
  {
   "cell_type": "markdown",
   "id": "358ad28e",
   "metadata": {},
   "source": [
    "The figure shows that the maximum mapping errors are found in intense current systems, for example in the GulfStream, Kuroshio and Agulhas regions. \n",
    "\n",
    "However, when considering the full scale of motion in the drifter database, the surface current maps capture up to 80% of the variability of drifter currents in the Western Boundary Currents and Antarctic Circumpolar Currents (ACC). The geostrophic signal dominates the ageostrophic signal in these regions. In regions with low ocean variability, only a few percent of the total drifter current variability is recovered in the maps, which may be associated with a larger ageostrophic signal in these regions."
   ]
  },
  {
   "cell_type": "code",
   "execution_count": null,
   "id": "45519cc8",
   "metadata": {},
   "outputs": [],
   "source": [
    "plot_stat_uv_by_regimes(stat_output_filename)"
   ]
  },
  {
   "cell_type": "markdown",
   "id": "e92fb576",
   "metadata": {},
   "source": [
    "## 2.4 Compute Spectral scores"
   ]
  },
  {
   "cell_type": "code",
   "execution_count": null,
   "id": "07485a8e",
   "metadata": {},
   "outputs": [],
   "source": [
    "# Compute PSD scores\n",
    "compute_psd_scores_current(ds_interp, psd_output_filename, lenght_scale=segment_lenght,method_name=method_name)"
   ]
  },
  {
   "cell_type": "code",
   "execution_count": null,
   "id": "cd9e9c4b",
   "metadata": {},
   "outputs": [],
   "source": [
    "# Plot Zonally averaged rotary spectra\n",
    "# Hvplot\n",
    "# plot_psd_scores_currents(psd_output_filename)\n",
    "# Matplotlib\n",
    "plot_psd_scores_currents_png(psd_output_filename)"
   ]
  },
  {
   "cell_type": "code",
   "execution_count": null,
   "id": "c0698856",
   "metadata": {},
   "outputs": [],
   "source": [
    "# Plot Zonally averaged rotary spectra\n",
    "plot_psd_scores_currents_1D(psd_output_filename)"
   ]
  },
  {
   "cell_type": "markdown",
   "id": "7cec79ac",
   "metadata": {},
   "source": [
    "The interactive plot above allows you to explore the spectral metrics by latitude band"
   ]
  },
  {
   "cell_type": "code",
   "execution_count": null,
   "id": "829a2076",
   "metadata": {},
   "outputs": [],
   "source": []
  }
 ],
 "metadata": {
  "celltoolbar": "Tags",
  "kernelspec": {
   "display_name": "env-dc-global-ose0",
   "language": "python",
   "name": "env-dc-global-ose0"
  },
  "language_info": {
   "codemirror_mode": {
    "name": "ipython",
    "version": 3
   },
   "file_extension": ".py",
   "mimetype": "text/x-python",
   "name": "python",
   "nbconvert_exporter": "python",
   "pygments_lexer": "ipython3",
   "version": "3.10.11"
  }
 },
 "nbformat": 4,
 "nbformat_minor": 5
}
