{
 "cells": [
  {
   "cell_type": "markdown",
   "id": "1f25aefe",
   "metadata": {},
   "source": [
    "![header](../figures/logos_partenaires._cmems_se.jpg)"
   ]
  },
  {
   "cell_type": "markdown",
   "id": "1e219955",
   "metadata": {},
   "source": [
    "# Benchmark your method Lagrangian Cumulative Distance\n",
    "\n",
    "<div style=\"text-align: right\"><i> 2023-04-27 DUACS_SSH_BENCHMARK_DEMO </i></div>\n",
    "\n",
    "***\n",
    "**Authors:**  CLS & Datlas <br>\n",
    "**Copyright:** 2023 CLS & Datlas <br>\n",
    "**License:** MIT\n",
    "\n",
    "<div class=\"alert alert-block alert-success\">\n",
    "<h1><center>Benchmark of your method sea surface height maps</center></h1>\n",
    "<h5> The notebook aims to evaluate the sea surface height maps produced by the your system. </h5>\n",
    "    <h5> These maps are equivalent to the SEALEVEL_GLO_PHY_L4_MY_008_047 product distributed by the Copernicus Marine Service, except that a nadir altimeter (SARAL/Altika, SEALEVEL_GLO_PHY_L3_MY_008_062 product) has been excluded from the mapping. </h5>\n",
    "        <h5> We provide below a demonstration of the validation of these maps against the trajectories of independent drifters distributed by CMEMS </h5>\n",
    "</div>"
   ]
  },
  {
   "cell_type": "markdown",
   "id": "d2d5249c",
   "metadata": {},
   "source": [
    "# 1. Import packages"
   ]
  },
  {
   "cell_type": "code",
   "execution_count": null,
   "id": "715681a6",
   "metadata": {},
   "outputs": [],
   "source": [
    "import os\n",
    "import numpy as np\n",
    "import xarray as xr \n",
    "import matplotlib\n",
    "import matplotlib.pylab as plt \n",
    "import matplotlib.ticker as mticker\n",
    "import cmocean \n",
    "from scipy.interpolate import RegularGridInterpolator\n",
    "import pickle\n",
    "import gc\n",
    "from matplotlib import cm \n",
    "import warnings\n",
    "warnings.filterwarnings('ignore')\n",
    "\n",
    "%matplotlib inline\n",
    "\n",
    "import sys\n",
    "sys.path.append('..')\n",
    "from src.mod_plot import *\n",
    "from src.mod_traj import *\n",
    "from src.mod_compare import regional_zoom"
   ]
  },
  {
   "cell_type": "markdown",
   "id": "ece9af21",
   "metadata": {},
   "source": [
    "# 2. Setup parameters"
   ]
  },
  {
   "cell_type": "code",
   "execution_count": null,
   "id": "b03b91e5",
   "metadata": {
    "tags": [
     "parameters"
    ]
   },
   "outputs": [],
   "source": [
    "method_name = 'method'\n",
    "method_path = '../data/maps/method/*.nc'"
   ]
  },
  {
   "cell_type": "code",
   "execution_count": null,
   "id": "923ce9ab",
   "metadata": {},
   "outputs": [],
   "source": [
    "\n",
    "time_min = '2019-01-01'                                        # time min for analysis\n",
    "time_max = '2019-12-31'                                        # time max for analysis \n",
    "\n",
    "dir_out = f'../results/'                               # output directory path \n",
    "prefix_out = 'dict_drifter_adv'\n",
    "results_out = 'deviat_uv_'+method_name+'.nc'\n",
    "\n",
    "if not os.path.exists(dir_out):\n",
    "    os.system('mkdir '+dir_out)\n",
    "\n",
    "# Global\n",
    "lon_min = 0                                          # domain min longitude\n",
    "lon_max = 360                                          # domain max longitude\n",
    "lat_min = -90.                                          # domain min latitude\n",
    "lat_max = 90.                                          # domain max latitude \n"
   ]
  },
  {
   "cell_type": "markdown",
   "id": "9d4d319d",
   "metadata": {},
   "source": [
    "# 3. Maps to evaluate"
   ]
  },
  {
   "cell_type": "markdown",
   "id": "fc263f5b",
   "metadata": {},
   "source": [
    "## 3.1 Download maps"
   ]
  },
  {
   "cell_type": "code",
   "execution_count": null,
   "id": "bb6b0790",
   "metadata": {},
   "outputs": [],
   "source": [
    "\n",
    "maps = xr.open_mfdataset(method_path)\n",
    "\n",
    "maps = maps.sel({'longitude':slice(lon_min-0.5,lon_max+0.5)})\n",
    "maps = maps.sel({'latitude':slice(lat_min-0.5,lat_max+0.5)})\n",
    "maps"
   ]
  },
  {
   "cell_type": "markdown",
   "id": "3497b587",
   "metadata": {},
   "source": [
    "## 3.2 Retrieve maps info "
   ]
  },
  {
   "cell_type": "code",
   "execution_count": null,
   "id": "fbc0536d",
   "metadata": {},
   "outputs": [],
   "source": [
    "time = maps.time.values\n",
    "lon = maps.longitude.values\n",
    "lat = maps.latitude.values \n",
    "\n",
    "time = (time.astype('datetime64[h]') - np.datetime64('2019-01-01')).astype(int)\n",
    "Nt = time[-1] \n",
    "\n",
    "u_maps = maps.ugos\n",
    "v_maps = maps.vgos\n",
    " "
   ]
  },
  {
   "cell_type": "markdown",
   "id": "2e3993a3",
   "metadata": {},
   "source": [
    "# 4. Independant drifters"
   ]
  },
  {
   "cell_type": "markdown",
   "id": "a8055956",
   "metadata": {},
   "source": [
    "## 4.1 Download drifters"
   ]
  },
  {
   "cell_type": "code",
   "execution_count": null,
   "id": "5a618581",
   "metadata": {},
   "outputs": [],
   "source": [
    "path_drifters = '../data/independent_drifters/uv*'\n",
    "ds_drifters = xr.open_mfdataset(path_drifters,concat_dim='time',combine='nested')\n",
    "ds_drifters.load()"
   ]
  },
  {
   "cell_type": "markdown",
   "id": "9e6402c8",
   "metadata": {},
   "source": [
    "## 4.2 Prepare drifter data"
   ]
  },
  {
   "cell_type": "code",
   "execution_count": null,
   "id": "dcd0d5b7",
   "metadata": {},
   "outputs": [],
   "source": [
    "%%time\n",
    "ind, time_drifter, lon_drifter, lat_drifter, id_drifter= prepare_drifter_data(ds_drifters,maps)"
   ]
  },
  {
   "cell_type": "markdown",
   "id": "43fec4a5",
   "metadata": {},
   "source": [
    "# 5. Interpolate maps at drifters locations"
   ]
  },
  {
   "cell_type": "code",
   "execution_count": null,
   "id": "eeed8bf8",
   "metadata": {},
   "outputs": [],
   "source": [
    "%%time\n",
    "\n",
    "# Create interpolation function\n",
    "fu = RegularGridInterpolator((time, lat, lon), u_maps.values)\n",
    "fv = RegularGridInterpolator((time, lat, lon), v_maps.values)"
   ]
  },
  {
   "cell_type": "markdown",
   "id": "5916cb99",
   "metadata": {},
   "source": [
    "# 6. Artificial drifter trajectories "
   ]
  },
  {
   "cell_type": "markdown",
   "id": "c9180810",
   "metadata": {},
   "source": [
    "## 6.1 Trajectory parameters and initialization "
   ]
  },
  {
   "cell_type": "code",
   "execution_count": null,
   "id": "a526c316",
   "metadata": {},
   "outputs": [],
   "source": [
    "nday = 5\n",
    "dt_h = 24 \n",
    "mode = 'euler' \n",
    "write = False \n",
    "Np = time_drifter.size\n",
    "\n",
    "horizons = np.arange(0,nday*24/dt_h+1)\n",
    "\n",
    "dict_drifter_adv_maps = {0:{'time':time_drifter,\n",
    "                           'lon':lon_drifter,\n",
    "                           'lat':lat_drifter,\n",
    "                            'id':id_drifter}\n",
    "                       }\n",
    "horizons"
   ]
  },
  {
   "cell_type": "markdown",
   "id": "22420729",
   "metadata": {},
   "source": [
    "## 6.2 Compute trajectories"
   ]
  },
  {
   "cell_type": "code",
   "execution_count": null,
   "id": "b246ee7d",
   "metadata": {
    "scrolled": true
   },
   "outputs": [],
   "source": [
    "%%time\n",
    "dict_drifter_adv_maps = compute_traj(dict_drifter_adv_maps, horizons, fu, fv ,Np, Nt, dt_h, method_name, dir_out, prefix_out, mode, write)\n"
   ]
  },
  {
   "cell_type": "markdown",
   "id": "8997c710",
   "metadata": {},
   "source": [
    "# 7. Compute deviation  "
   ]
  },
  {
   "cell_type": "code",
   "execution_count": null,
   "id": "34177565",
   "metadata": {},
   "outputs": [],
   "source": [
    "# Deviation = Cumulative distance between artificial and real trajectories\n",
    "\n",
    "# Average deviation by bins\n",
    "lon_out=np.arange(lon_min, lon_max, 1)\n",
    "lat_out=np.arange(lat_min, lat_max, 1)\n",
    "\n",
    "horizon_days = [1,2,3,4,5]\n",
    "    \n",
    "dev_maps, var_dev_maps, dmean = compute_deviation(dict_drifter_adv_maps, Nt, dt_h, horizon_days,lon_out,lat_out, dir_out, method_name, results_out)\n"
   ]
  },
  {
   "cell_type": "markdown",
   "id": "b9d15cfd",
   "metadata": {},
   "source": [
    "# 8. Plots"
   ]
  },
  {
   "cell_type": "markdown",
   "id": "f31de618",
   "metadata": {},
   "source": [
    "## 8.1 Plot deviation maps at different horizons"
   ]
  },
  {
   "cell_type": "code",
   "execution_count": null,
   "id": "0d3e0e7d",
   "metadata": {},
   "outputs": [],
   "source": [
    "horizon_plots = [1,2,3,4,5]\n",
    "horizon_plot_max = [40,80,125,150,200]\n",
    "\n",
    "plot_traj_deviation_maps(lon_out, lat_out, dev_maps, dt_h,horizon_plots,horizon_plot_max,method_name) \n"
   ]
  },
  {
   "cell_type": "markdown",
   "id": "98371f7a",
   "metadata": {},
   "source": [
    "## 8.2 Plot spatially averaged deviation as a function of horizons"
   ]
  },
  {
   "cell_type": "code",
   "execution_count": null,
   "id": "cc68201f",
   "metadata": {},
   "outputs": [],
   "source": [
    "plot_meantraj_deviation(dir_out)"
   ]
  },
  {
   "cell_type": "code",
   "execution_count": null,
   "id": "079e32b3",
   "metadata": {},
   "outputs": [],
   "source": [
    "plot_meantraj_deviation(dir_out, just_basin='global')"
   ]
  },
  {
   "cell_type": "code",
   "execution_count": null,
   "id": "7ae476d3",
   "metadata": {},
   "outputs": [],
   "source": []
  }
 ],
 "metadata": {
  "celltoolbar": "Tags",
  "kernelspec": {
   "display_name": ".venv",
   "language": "python",
   "name": ".venv"
  },
  "language_info": {
   "codemirror_mode": {
    "name": "ipython",
    "version": 3
   },
   "file_extension": ".py",
   "mimetype": "text/x-python",
   "name": "python",
   "nbconvert_exporter": "python",
   "pygments_lexer": "ipython3",
   "version": "3.6.13"
  }
 },
 "nbformat": 4,
 "nbformat_minor": 5
}
